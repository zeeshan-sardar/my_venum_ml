{
 "cells": [
  {
   "cell_type": "markdown",
   "metadata": {},
   "source": [
    "## Graph Analytics Demo"
   ]
  },
  {
   "cell_type": "markdown",
   "metadata": {},
   "source": [
    "In this demo we will using encrypted graphs and PageRank to show how employee reviews can be mined for key insights, all while keeping sensitive information private. The scenario is as follows: \n",
    "\n",
    "* Each employee is invited to review 5 of their colleagues that they have directly worked with. \n",
    "* Each review allows an employee to rate their colleagues an integer value in the range [1,5], where 1 is extremely negative, and 5 is extremely postive.\n",
    "* In this simplified scenario a dataframe is created via employee submissions. The dataframe is then used to calculate average ratings for each employee, which are then encrypted. Additionally, a network graph is created. In this graph, each employee forms a node, and the directed, weighted edge between two employees symbolizes a review.\n",
    "* Using pagerank, one is able to securely determine key individuals that are vital to the organization: these are people who work many other key employees, who in turn work with lots of other employees. In this sense we are able to enrich the average rating by also ascertaining how integrated an employee is, and therefore wether they are a critical asset to the organization, or even a liability.  \n"
   ]
  },
  {
   "cell_type": "code",
   "execution_count": 3,
   "metadata": {},
   "outputs": [],
   "source": [
    "# Import Dependencies\n",
    "import sys\n",
    "sys.path.append('..')\n"
   ]
  },
  {
   "cell_type": "code",
   "execution_count": 6,
   "metadata": {},
   "outputs": [],
   "source": [
    "import pandas as pd\n",
    "import numpy as np\n",
    "import random\n",
    "import networkx as nx\n",
    "import plotly.graph_objects as go\n",
    "from sklearn.cluster import KMeans\n",
    "import plotly.express as px\n",
    "import plotly.io as pio\n",
    "# pio.renderers.default = 'notebook'\n",
    "# pio.renderers.default = 'iframe'\n"
   ]
  },
  {
   "cell_type": "code",
   "execution_count": 8,
   "metadata": {},
   "outputs": [],
   "source": [
    "from venumML.venumpy import small_glwe as vp\n",
    "from venumML.graphs.venum_graph import *\n",
    "\n",
    "from venumML.venum_tools import *"
   ]
  },
  {
   "cell_type": "code",
   "execution_count": 9,
   "metadata": {},
   "outputs": [],
   "source": [
    "ctx = vp.SecretContext()\n",
    "ctx.precision = 6"
   ]
  },
  {
   "cell_type": "markdown",
   "metadata": {},
   "source": [
    "Let's import the sensitive dataframe of 360 employee reviews."
   ]
  },
  {
   "cell_type": "code",
   "execution_count": 10,
   "metadata": {},
   "outputs": [],
   "source": [
    "reviews = pd.read_csv('graph_demo/data/reviews.csv')"
   ]
  },
  {
   "cell_type": "code",
   "execution_count": 11,
   "metadata": {},
   "outputs": [
    {
     "data": {
      "text/html": [
       "<div>\n",
       "<style scoped>\n",
       "    .dataframe tbody tr th:only-of-type {\n",
       "        vertical-align: middle;\n",
       "    }\n",
       "\n",
       "    .dataframe tbody tr th {\n",
       "        vertical-align: top;\n",
       "    }\n",
       "\n",
       "    .dataframe thead th {\n",
       "        text-align: right;\n",
       "    }\n",
       "</style>\n",
       "<table border=\"1\" class=\"dataframe\">\n",
       "  <thead>\n",
       "    <tr style=\"text-align: right;\">\n",
       "      <th></th>\n",
       "      <th>Reviewer</th>\n",
       "      <th>Reviewee</th>\n",
       "      <th>Score</th>\n",
       "      <th>reviewer_role</th>\n",
       "      <th>reviewee_role</th>\n",
       "    </tr>\n",
       "  </thead>\n",
       "  <tbody>\n",
       "    <tr>\n",
       "      <th>0</th>\n",
       "      <td>Allison Hill</td>\n",
       "      <td>Noah Rhodes</td>\n",
       "      <td>4</td>\n",
       "      <td>executive</td>\n",
       "      <td>executive</td>\n",
       "    </tr>\n",
       "    <tr>\n",
       "      <th>1</th>\n",
       "      <td>Allison Hill</td>\n",
       "      <td>Jamie Arnold</td>\n",
       "      <td>3</td>\n",
       "      <td>executive</td>\n",
       "      <td>executive</td>\n",
       "    </tr>\n",
       "    <tr>\n",
       "      <th>2</th>\n",
       "      <td>Allison Hill</td>\n",
       "      <td>Gina Moore</td>\n",
       "      <td>2</td>\n",
       "      <td>executive</td>\n",
       "      <td>executive</td>\n",
       "    </tr>\n",
       "    <tr>\n",
       "      <th>3</th>\n",
       "      <td>Allison Hill</td>\n",
       "      <td>Fred Smith</td>\n",
       "      <td>3</td>\n",
       "      <td>executive</td>\n",
       "      <td>executive</td>\n",
       "    </tr>\n",
       "    <tr>\n",
       "      <th>4</th>\n",
       "      <td>Allison Hill</td>\n",
       "      <td>Debra Davidson</td>\n",
       "      <td>5</td>\n",
       "      <td>executive</td>\n",
       "      <td>executive</td>\n",
       "    </tr>\n",
       "    <tr>\n",
       "      <th>5</th>\n",
       "      <td>Noah Rhodes</td>\n",
       "      <td>Elizabeth Fowler</td>\n",
       "      <td>1</td>\n",
       "      <td>manager</td>\n",
       "      <td>manager</td>\n",
       "    </tr>\n",
       "    <tr>\n",
       "      <th>6</th>\n",
       "      <td>Noah Rhodes</td>\n",
       "      <td>Judy Baker</td>\n",
       "      <td>2</td>\n",
       "      <td>manager</td>\n",
       "      <td>manager</td>\n",
       "    </tr>\n",
       "    <tr>\n",
       "      <th>7</th>\n",
       "      <td>Noah Rhodes</td>\n",
       "      <td>Debra Davidson</td>\n",
       "      <td>5</td>\n",
       "      <td>manager</td>\n",
       "      <td>manager</td>\n",
       "    </tr>\n",
       "    <tr>\n",
       "      <th>8</th>\n",
       "      <td>Noah Rhodes</td>\n",
       "      <td>Brittany Farmer</td>\n",
       "      <td>4</td>\n",
       "      <td>manager</td>\n",
       "      <td>manager</td>\n",
       "    </tr>\n",
       "    <tr>\n",
       "      <th>9</th>\n",
       "      <td>Noah Rhodes</td>\n",
       "      <td>Jamie Arnold</td>\n",
       "      <td>1</td>\n",
       "      <td>manager</td>\n",
       "      <td>manager</td>\n",
       "    </tr>\n",
       "  </tbody>\n",
       "</table>\n",
       "</div>"
      ],
      "text/plain": [
       "       Reviewer          Reviewee  Score reviewer_role reviewee_role\n",
       "0  Allison Hill       Noah Rhodes      4     executive     executive\n",
       "1  Allison Hill      Jamie Arnold      3     executive     executive\n",
       "2  Allison Hill        Gina Moore      2     executive     executive\n",
       "3  Allison Hill        Fred Smith      3     executive     executive\n",
       "4  Allison Hill    Debra Davidson      5     executive     executive\n",
       "5   Noah Rhodes  Elizabeth Fowler      1       manager       manager\n",
       "6   Noah Rhodes        Judy Baker      2       manager       manager\n",
       "7   Noah Rhodes    Debra Davidson      5       manager       manager\n",
       "8   Noah Rhodes   Brittany Farmer      4       manager       manager\n",
       "9   Noah Rhodes      Jamie Arnold      1       manager       manager"
      ]
     },
     "execution_count": 11,
     "metadata": {},
     "output_type": "execute_result"
    }
   ],
   "source": [
    "reviews.head(10)\n"
   ]
  },
  {
   "cell_type": "markdown",
   "metadata": {},
   "source": [
    "Now, let's convert the dataframe into an encrypted graph. The \"from node\" will be the Reviewer. The \"to node\" will be the Reviewee. The rating assigned by the Reviewer will act as the weight. In this case, for simplicity, we won't be hashing the nodes."
   ]
  },
  {
   "cell_type": "code",
   "execution_count": 14,
   "metadata": {},
   "outputs": [],
   "source": [
    "G = df_to_encrypted_graph(ctx, reviews,from_col='Reviewer',to_col='Reviewee', weight_col= None, use_hashing=False)"
   ]
  },
  {
   "cell_type": "code",
   "execution_count": 2,
   "metadata": {},
   "outputs": [
    {
     "data": {
      "image/png": "[encoded data removed]",
      "text/plain": [
       "<Figure size 800x600 with 1 Axes>"
      ]
     },
     "metadata": {},
     "output_type": "display_data"
    }
   ],
   "source": [
    "import networkx as nx\n",
    "import matplotlib.pyplot as plt\n",
    "\n",
    "# Create a directed graph\n",
    "G = nx.DiGraph()\n",
    "\n",
    "# Add nodes\n",
    "nodes = [\"A\", \"B\", \"C\", \"D\", \"E\"]\n",
    "G.add_nodes_from(nodes)\n",
    "\n",
    "# Add weighted edges (directed)\n",
    "edges = [\n",
    "    (\"A\", \"B\", 4),\n",
    "    (\"A\", \"C\", 2),\n",
    "    (\"B\", \"C\", 5),\n",
    "    (\"B\", \"D\", 10),\n",
    "    (\"C\", \"D\", 3),\n",
    "    (\"D\", \"E\", 8),\n",
    "    (\"E\", \"A\", 7)\n",
    "]\n",
    "G.add_weighted_edges_from(edges)\n",
    "\n",
    "# Draw the graph with weights\n",
    "pos = nx.spring_layout(G)  # Positioning of nodes\n",
    "plt.figure(figsize=(8, 6))\n",
    "nx.draw(G, pos, with_labels=True, node_color='lightblue', node_size=2000, edge_color='gray', arrows=True)\n",
    "edge_labels = {(u, v): w for u, v, w in edges}  # Extract weights\n",
    "nx.draw_networkx_edge_labels(G, pos, edge_labels=edge_labels)\n",
    "plt.title(\"Weighted Directed Graph\")\n",
    "plt.show()"
   ]
  },
  {
   "cell_type": "markdown",
   "metadata": {},
   "source": [
    "Next, let's calculate the average rating per employee, and store it in a nested dictionary, along with their role. "
   ]
  },
  {
   "cell_type": "code",
   "execution_count": 8,
   "metadata": {},
   "outputs": [
    {
     "data": {
      "text/plain": [
       "{'Allison Hill': {'AverageScore': 1.5, 'Role': 'manager'},\n",
       " 'Angelica Tucker': {'AverageScore': 2.0, 'Role': 'executive'},\n",
       " 'Angie Henderson': {'AverageScore': 4.5, 'Role': 'intern'},\n",
       " 'Anthony Humphrey': {'AverageScore': 1.5333333333333334, 'Role': 'manager'},\n",
       " 'Anthony Rodriguez': {'AverageScore': 4.0, 'Role': 'intern'},\n",
       " 'Brian Ramirez': {'AverageScore': 3.5, 'Role': 'manager'},\n",
       " 'Brittany Farmer': {'AverageScore': 4.125, 'Role': 'manager'},\n",
       " 'Carla Gray': {'AverageScore': 2.5, 'Role': 'intern'},\n",
       " 'Cassandra Gaines': {'AverageScore': 3.0, 'Role': 'manager'},\n",
       " 'Connie Lawrence': {'AverageScore': 5.0, 'Role': 'manager'},\n",
       " 'Debra Davidson': {'AverageScore': 5.0, 'Role': 'executive'},\n",
       " 'Derek Zuniga': {'AverageScore': 3.75, 'Role': 'manager'},\n",
       " 'Elizabeth Fowler': {'AverageScore': 1.4444444444444444, 'Role': 'manager'},\n",
       " 'Ethan Adams': {'AverageScore': 2.5, 'Role': 'intern'},\n",
       " 'Fred Smith': {'AverageScore': 3.0, 'Role': 'executive'},\n",
       " 'Gabrielle Davis': {'AverageScore': 3.8, 'Role': 'manager'},\n",
       " 'Gina Moore': {'AverageScore': 1.3333333333333333, 'Role': 'executive'},\n",
       " 'James Ferrell': {'AverageScore': 3.0, 'Role': 'manager'},\n",
       " 'Jamie Arnold': {'AverageScore': 2.0, 'Role': 'executive'},\n",
       " 'Jeffrey Chavez': {'AverageScore': 2.2857142857142856, 'Role': 'intern'},\n",
       " 'Judy Baker': {'AverageScore': 1.9230769230769231, 'Role': 'manager'},\n",
       " 'Lisa Hensley': {'AverageScore': 2.1538461538461537, 'Role': 'executive'},\n",
       " 'Lisa Jackson': {'AverageScore': 2.3333333333333335, 'Role': 'intern'},\n",
       " 'Margaret Hawkins DDS': {'AverageScore': 1.5, 'Role': 'manager'},\n",
       " 'Matthew Foster': {'AverageScore': 5.0, 'Role': 'executive'},\n",
       " 'Michele Williams': {'AverageScore': 3.0, 'Role': 'executive'},\n",
       " 'Nathan Maldonado': {'AverageScore': 3.5555555555555554, 'Role': 'intern'},\n",
       " 'Noah Rhodes': {'AverageScore': 4.052631578947368, 'Role': 'executive'},\n",
       " 'Patty Perez': {'AverageScore': 4.0, 'Role': 'intern'},\n",
       " 'Paula Moreno': {'AverageScore': 4.0, 'Role': 'executive'},\n",
       " 'Rebecca Henderson': {'AverageScore': 4.0, 'Role': 'executive'},\n",
       " 'Ryan Munoz': {'AverageScore': 2.4, 'Role': 'intern'},\n",
       " 'Stephanie Ross': {'AverageScore': 3.8333333333333335, 'Role': 'manager'},\n",
       " 'Tommy Walter': {'AverageScore': 2.8, 'Role': 'manager'},\n",
       " 'Zachary Hicks': {'AverageScore': 1.6666666666666667, 'Role': 'intern'},\n",
       " 'Daniel Wagner': {'AverageScore': 0, 'Role': 'intern'},\n",
       " 'Cristian Santos': {'AverageScore': 0, 'Role': 'intern'},\n",
       " 'Abigail Shaffer': {'AverageScore': 0, 'Role': 'intern'},\n",
       " 'Monica Herrera': {'AverageScore': 0, 'Role': 'intern'},\n",
       " 'Dylan Miller': {'AverageScore': 0, 'Role': 'intern'},\n",
       " 'Holly Wood': {'AverageScore': 0, 'Role': 'intern'},\n",
       " 'Justin Baker': {'AverageScore': 0, 'Role': 'intern'},\n",
       " 'Tricia Valencia': {'AverageScore': 0, 'Role': 'intern'},\n",
       " 'Sherri Baker': {'AverageScore': 0, 'Role': 'intern'},\n",
       " 'Sherry Decker': {'AverageScore': 0, 'Role': 'intern'}}"
      ]
     },
     "execution_count": 8,
     "metadata": {},
     "output_type": "execute_result"
    }
   ],
   "source": [
    "# Create a dictionary where the employee is the key and reviewer_role is the value\n",
    "employee_roles = reviews.set_index('Reviewer')['reviewer_role'].to_dict()\n",
    "\n",
    "# Calculate the average score per employee, including those who didn't get a review\n",
    "average_scores = reviews.groupby('Reviewee').apply(lambda x: {'AverageScore': x['Score'].mean(), 'Role': x['reviewer_role'].iloc[0]}).to_dict()\n",
    "\n",
    "# Add employees who didn't get a review with a score of 0\n",
    "for employee in employee_roles:\n",
    "    if employee not in average_scores:\n",
    "        average_scores[employee] = {'AverageScore': 0, 'Role': employee_roles[employee]}\n",
    "\n",
    "average_scores"
   ]
  },
  {
   "cell_type": "markdown",
   "metadata": {},
   "source": [
    "Before transmitting this data for analysis, let's encrypt the data using the secret context we created earlier."
   ]
  },
  {
   "cell_type": "code",
   "execution_count": 9,
   "metadata": {},
   "outputs": [],
   "source": [
    "for k in average_scores.keys():\n",
    "    average_scores[k]['AverageScore'] = ctx.encrypt(average_scores[k]['AverageScore'])"
   ]
  },
  {
   "cell_type": "code",
   "execution_count": 10,
   "metadata": {},
   "outputs": [
    {
     "data": {
      "text/plain": [
       "{'Allison Hill': {'AverageScore': <venumML.venumpy.small_glwe.Ciphertext at 0x1695c1670>,\n",
       "  'Role': 'manager'},\n",
       " 'Angelica Tucker': {'AverageScore': <venumML.venumpy.small_glwe.Ciphertext at 0x1695c13a0>,\n",
       "  'Role': 'executive'},\n",
       " 'Angie Henderson': {'AverageScore': <venumML.venumpy.small_glwe.Ciphertext at 0x169760df0>,\n",
       "  'Role': 'intern'},\n",
       " 'Anthony Humphrey': {'AverageScore': <venumML.venumpy.small_glwe.Ciphertext at 0x169760c70>,\n",
       "  'Role': 'manager'},\n",
       " 'Anthony Rodriguez': {'AverageScore': <venumML.venumpy.small_glwe.Ciphertext at 0x169760f10>,\n",
       "  'Role': 'intern'},\n",
       " 'Brian Ramirez': {'AverageScore': <venumML.venumpy.small_glwe.Ciphertext at 0x169760d30>,\n",
       "  'Role': 'manager'},\n",
       " 'Brittany Farmer': {'AverageScore': <venumML.venumpy.small_glwe.Ciphertext at 0x169760ac0>,\n",
       "  'Role': 'manager'},\n",
       " 'Carla Gray': {'AverageScore': <venumML.venumpy.small_glwe.Ciphertext at 0x1697609a0>,\n",
       "  'Role': 'intern'},\n",
       " 'Cassandra Gaines': {'AverageScore': <venumML.venumpy.small_glwe.Ciphertext at 0x1697608e0>,\n",
       "  'Role': 'manager'},\n",
       " 'Connie Lawrence': {'AverageScore': <venumML.venumpy.small_glwe.Ciphertext at 0x169760940>,\n",
       "  'Role': 'manager'},\n",
       " 'Debra Davidson': {'AverageScore': <venumML.venumpy.small_glwe.Ciphertext at 0x169760b80>,\n",
       "  'Role': 'executive'},\n",
       " 'Derek Zuniga': {'AverageScore': <venumML.venumpy.small_glwe.Ciphertext at 0x169760b20>,\n",
       "  'Role': 'manager'},\n",
       " 'Elizabeth Fowler': {'AverageScore': <venumML.venumpy.small_glwe.Ciphertext at 0x169760f40>,\n",
       "  'Role': 'manager'},\n",
       " 'Ethan Adams': {'AverageScore': <venumML.venumpy.small_glwe.Ciphertext at 0x169760ca0>,\n",
       "  'Role': 'intern'},\n",
       " 'Fred Smith': {'AverageScore': <venumML.venumpy.small_glwe.Ciphertext at 0x169760cd0>,\n",
       "  'Role': 'executive'},\n",
       " 'Gabrielle Davis': {'AverageScore': <venumML.venumpy.small_glwe.Ciphertext at 0x169760d60>,\n",
       "  'Role': 'manager'},\n",
       " 'Gina Moore': {'AverageScore': <venumML.venumpy.small_glwe.Ciphertext at 0x169760910>,\n",
       "  'Role': 'executive'},\n",
       " 'James Ferrell': {'AverageScore': <venumML.venumpy.small_glwe.Ciphertext at 0x1697607f0>,\n",
       "  'Role': 'manager'},\n",
       " 'Jamie Arnold': {'AverageScore': <venumML.venumpy.small_glwe.Ciphertext at 0x1697603d0>,\n",
       "  'Role': 'executive'},\n",
       " 'Jeffrey Chavez': {'AverageScore': <venumML.venumpy.small_glwe.Ciphertext at 0x169760610>,\n",
       "  'Role': 'intern'},\n",
       " 'Judy Baker': {'AverageScore': <venumML.venumpy.small_glwe.Ciphertext at 0x169760580>,\n",
       "  'Role': 'manager'},\n",
       " 'Lisa Hensley': {'AverageScore': <venumML.venumpy.small_glwe.Ciphertext at 0x1697603a0>,\n",
       "  'Role': 'executive'},\n",
       " 'Lisa Jackson': {'AverageScore': <venumML.venumpy.small_glwe.Ciphertext at 0x169760040>,\n",
       "  'Role': 'intern'},\n",
       " 'Margaret Hawkins DDS': {'AverageScore': <venumML.venumpy.small_glwe.Ciphertext at 0x169760550>,\n",
       "  'Role': 'manager'},\n",
       " 'Matthew Foster': {'AverageScore': <venumML.venumpy.small_glwe.Ciphertext at 0x169760790>,\n",
       "  'Role': 'executive'},\n",
       " 'Michele Williams': {'AverageScore': <venumML.venumpy.small_glwe.Ciphertext at 0x169760070>,\n",
       "  'Role': 'executive'},\n",
       " 'Nathan Maldonado': {'AverageScore': <venumML.venumpy.small_glwe.Ciphertext at 0x169760190>,\n",
       "  'Role': 'intern'},\n",
       " 'Noah Rhodes': {'AverageScore': <venumML.venumpy.small_glwe.Ciphertext at 0x169760340>,\n",
       "  'Role': 'executive'},\n",
       " 'Patty Perez': {'AverageScore': <venumML.venumpy.small_glwe.Ciphertext at 0x169760730>,\n",
       "  'Role': 'intern'},\n",
       " 'Paula Moreno': {'AverageScore': <venumML.venumpy.small_glwe.Ciphertext at 0x169760dc0>,\n",
       "  'Role': 'executive'},\n",
       " 'Rebecca Henderson': {'AverageScore': <venumML.venumpy.small_glwe.Ciphertext at 0x169772730>,\n",
       "  'Role': 'executive'},\n",
       " 'Ryan Munoz': {'AverageScore': <venumML.venumpy.small_glwe.Ciphertext at 0x169772490>,\n",
       "  'Role': 'intern'},\n",
       " 'Stephanie Ross': {'AverageScore': <venumML.venumpy.small_glwe.Ciphertext at 0x1697723d0>,\n",
       "  'Role': 'manager'},\n",
       " 'Tommy Walter': {'AverageScore': <venumML.venumpy.small_glwe.Ciphertext at 0x169772670>,\n",
       "  'Role': 'manager'},\n",
       " 'Zachary Hicks': {'AverageScore': <venumML.venumpy.small_glwe.Ciphertext at 0x1697726a0>,\n",
       "  'Role': 'intern'},\n",
       " 'Daniel Wagner': {'AverageScore': <venumML.venumpy.small_glwe.Ciphertext at 0x169772610>,\n",
       "  'Role': 'intern'},\n",
       " 'Cristian Santos': {'AverageScore': <venumML.venumpy.small_glwe.Ciphertext at 0x169772460>,\n",
       "  'Role': 'intern'},\n",
       " 'Abigail Shaffer': {'AverageScore': <venumML.venumpy.small_glwe.Ciphertext at 0x169772f70>,\n",
       "  'Role': 'intern'},\n",
       " 'Monica Herrera': {'AverageScore': <venumML.venumpy.small_glwe.Ciphertext at 0x169772370>,\n",
       "  'Role': 'intern'},\n",
       " 'Dylan Miller': {'AverageScore': <venumML.venumpy.small_glwe.Ciphertext at 0x1697725e0>,\n",
       "  'Role': 'intern'},\n",
       " 'Holly Wood': {'AverageScore': <venumML.venumpy.small_glwe.Ciphertext at 0x1697721c0>,\n",
       "  'Role': 'intern'},\n",
       " 'Justin Baker': {'AverageScore': <venumML.venumpy.small_glwe.Ciphertext at 0x1697721f0>,\n",
       "  'Role': 'intern'},\n",
       " 'Tricia Valencia': {'AverageScore': <venumML.venumpy.small_glwe.Ciphertext at 0x1697720d0>,\n",
       "  'Role': 'intern'},\n",
       " 'Sherri Baker': {'AverageScore': <venumML.venumpy.small_glwe.Ciphertext at 0x1697727c0>,\n",
       "  'Role': 'intern'},\n",
       " 'Sherry Decker': {'AverageScore': <venumML.venumpy.small_glwe.Ciphertext at 0x1697729d0>,\n",
       "  'Role': 'intern'}}"
      ]
     },
     "execution_count": 10,
     "metadata": {},
     "output_type": "execute_result"
    }
   ],
   "source": [
    "average_scores"
   ]
  },
  {
   "cell_type": "markdown",
   "metadata": {},
   "source": [
    "To keep things streamlined, we will continue the notebook as if we were now in an separate environment, and had imported the encrypted graph and dictionary sent to us."
   ]
  },
  {
   "cell_type": "markdown",
   "metadata": {},
   "source": [
    "Let's now run the encrypted graph through our pagerank algorithm. "
   ]
  },
  {
   "cell_type": "code",
   "execution_count": 11,
   "metadata": {},
   "outputs": [],
   "source": [
    "encrypted_pagerank = pagerank(ctx, G, iters=20)"
   ]
  },
  {
   "cell_type": "code",
   "execution_count": 12,
   "metadata": {},
   "outputs": [
    {
     "data": {
      "text/plain": [
       "{'Allison Hill': <venumML.venumpy.small_glwe.Ciphertext at 0x169770760>,\n",
       " 'Noah Rhodes': <venumML.venumpy.small_glwe.Ciphertext at 0x169770700>,\n",
       " 'Angie Henderson': <venumML.venumpy.small_glwe.Ciphertext at 0x169770670>,\n",
       " 'Daniel Wagner': <venumML.venumpy.small_glwe.Ciphertext at 0x1697705b0>,\n",
       " 'Cristian Santos': <venumML.venumpy.small_glwe.Ciphertext at 0x1697704f0>,\n",
       " 'Connie Lawrence': <venumML.venumpy.small_glwe.Ciphertext at 0x169770460>,\n",
       " 'Abigail Shaffer': <venumML.venumpy.small_glwe.Ciphertext at 0x169770400>,\n",
       " 'Gina Moore': <venumML.venumpy.small_glwe.Ciphertext at 0x169770850>,\n",
       " 'Gabrielle Davis': <venumML.venumpy.small_glwe.Ciphertext at 0x169770340>,\n",
       " 'Ryan Munoz': <venumML.venumpy.small_glwe.Ciphertext at 0x169770730>,\n",
       " 'Monica Herrera': <venumML.venumpy.small_glwe.Ciphertext at 0x169770310>,\n",
       " 'Jamie Arnold': <venumML.venumpy.small_glwe.Ciphertext at 0x1697702b0>,\n",
       " 'Lisa Hensley': <venumML.venumpy.small_glwe.Ciphertext at 0x169770250>,\n",
       " 'Michele Williams': <venumML.venumpy.small_glwe.Ciphertext at 0x1697701f0>,\n",
       " 'Dylan Miller': <venumML.venumpy.small_glwe.Ciphertext at 0x169770190>,\n",
       " 'Brian Ramirez': <venumML.venumpy.small_glwe.Ciphertext at 0x169770040>,\n",
       " 'Holly Wood': <venumML.venumpy.small_glwe.Ciphertext at 0x169770f40>,\n",
       " 'Derek Zuniga': <venumML.venumpy.small_glwe.Ciphertext at 0x1697707c0>,\n",
       " 'Lisa Jackson': <venumML.venumpy.small_glwe.Ciphertext at 0x169770be0>,\n",
       " 'Carla Gray': <venumML.venumpy.small_glwe.Ciphertext at 0x169770c40>,\n",
       " 'Margaret Hawkins DDS': <venumML.venumpy.small_glwe.Ciphertext at 0x169770d00>,\n",
       " 'Patty Perez': <venumML.venumpy.small_glwe.Ciphertext at 0x169770d60>,\n",
       " 'Ethan Adams': <venumML.venumpy.small_glwe.Ciphertext at 0x169770dc0>,\n",
       " 'Tommy Walter': <venumML.venumpy.small_glwe.Ciphertext at 0x169770e20>,\n",
       " 'Matthew Foster': <venumML.venumpy.small_glwe.Ciphertext at 0x169770fd0>,\n",
       " 'Judy Baker': <venumML.venumpy.small_glwe.Ciphertext at 0x1697706d0>,\n",
       " 'Justin Baker': <venumML.venumpy.small_glwe.Ciphertext at 0x169770b80>,\n",
       " 'Stephanie Ross': <venumML.venumpy.small_glwe.Ciphertext at 0x169770640>,\n",
       " 'Zachary Hicks': <venumML.venumpy.small_glwe.Ciphertext at 0x169770e80>,\n",
       " 'Anthony Rodriguez': <venumML.venumpy.small_glwe.Ciphertext at 0x169770ac0>,\n",
       " 'Rebecca Henderson': <venumML.venumpy.small_glwe.Ciphertext at 0x169770af0>,\n",
       " 'James Ferrell': <venumML.venumpy.small_glwe.Ciphertext at 0x169770a90>,\n",
       " 'Tricia Valencia': <venumML.venumpy.small_glwe.Ciphertext at 0x1697709d0>,\n",
       " 'Nathan Maldonado': <venumML.venumpy.small_glwe.Ciphertext at 0x169770970>,\n",
       " 'Debra Davidson': <venumML.venumpy.small_glwe.Ciphertext at 0x169770880>,\n",
       " 'Jeffrey Chavez': <venumML.venumpy.small_glwe.Ciphertext at 0x16976de50>,\n",
       " 'Sherri Baker': <venumML.venumpy.small_glwe.Ciphertext at 0x16976de80>,\n",
       " 'Cassandra Gaines': <venumML.venumpy.small_glwe.Ciphertext at 0x16976df40>,\n",
       " 'Elizabeth Fowler': <venumML.venumpy.small_glwe.Ciphertext at 0x16976df10>,\n",
       " 'Brittany Farmer': <venumML.venumpy.small_glwe.Ciphertext at 0x16976d520>,\n",
       " 'Paula Moreno': <venumML.venumpy.small_glwe.Ciphertext at 0x1697253d0>,\n",
       " 'Fred Smith': <venumML.venumpy.small_glwe.Ciphertext at 0x169725430>,\n",
       " 'Sherry Decker': <venumML.venumpy.small_glwe.Ciphertext at 0x169725550>,\n",
       " 'Anthony Humphrey': <venumML.venumpy.small_glwe.Ciphertext at 0x1697255b0>,\n",
       " 'Angelica Tucker': <venumML.venumpy.small_glwe.Ciphertext at 0x169725370>}"
      ]
     },
     "execution_count": 12,
     "metadata": {},
     "output_type": "execute_result"
    }
   ],
   "source": [
    "encrypted_pagerank"
   ]
  },
  {
   "cell_type": "markdown",
   "metadata": {},
   "source": [
    "Now, let's decrypt the PageRank scores."
   ]
  },
  {
   "cell_type": "code",
   "execution_count": 13,
   "metadata": {},
   "outputs": [],
   "source": [
    "decrypted_scores = decrypt_pagerank(ctx, encrypted_pagerank)"
   ]
  },
  {
   "cell_type": "code",
   "execution_count": 14,
   "metadata": {},
   "outputs": [
    {
     "data": {
      "text/plain": [
       "{'Allison Hill': 0.006926997253488505,\n",
       " 'Noah Rhodes': 0.06604920663049538,\n",
       " 'Angie Henderson': 0.044038719076206115,\n",
       " 'Daniel Wagner': 0.0033333,\n",
       " 'Cristian Santos': 0.0033333,\n",
       " 'Connie Lawrence': 0.014369945568009652,\n",
       " 'Abigail Shaffer': 0.0033333,\n",
       " 'Gina Moore': 0.046779864834017845,\n",
       " 'Gabrielle Davis': 0.017239434843304056,\n",
       " 'Ryan Munoz': 0.012981789542089794,\n",
       " 'Monica Herrera': 0.0033333,\n",
       " 'Jamie Arnold': 0.07547513023576041,\n",
       " 'Lisa Hensley': 0.0445018638567776,\n",
       " 'Michele Williams': 0.006451369190201246,\n",
       " 'Dylan Miller': 0.0033333,\n",
       " 'Brian Ramirez': 0.010283826764989826,\n",
       " 'Holly Wood': 0.0033333,\n",
       " 'Derek Zuniga': 0.022109412930329603,\n",
       " 'Lisa Jackson': 0.018155096818007827,\n",
       " 'Carla Gray': 0.01338839876485492,\n",
       " 'Margaret Hawkins DDS': 0.0070415339315744495,\n",
       " 'Patty Perez': 0.01405139213485492,\n",
       " 'Ethan Adams': 0.004466622,\n",
       " 'Tommy Walter': 0.039228379393603546,\n",
       " 'Matthew Foster': 0.0043060462309591945,\n",
       " 'Judy Baker': 0.06429496032466171,\n",
       " 'Justin Baker': 0.0033333,\n",
       " 'Stephanie Ross': 0.012670305735416844,\n",
       " 'Zachary Hicks': 0.01613366734264146,\n",
       " 'Anthony Rodriguez': 0.003899961,\n",
       " 'Rebecca Henderson': 0.024644104802526257,\n",
       " 'James Ferrell': 0.005722036651813008,\n",
       " 'Tricia Valencia': 0.0033333,\n",
       " 'Nathan Maldonado': 0.0423174345541267,\n",
       " 'Debra Davidson': 0.06492144448732216,\n",
       " 'Jeffrey Chavez': 0.03657940566228506,\n",
       " 'Sherri Baker': 0.0033333,\n",
       " 'Cassandra Gaines': 0.011300049451015638,\n",
       " 'Elizabeth Fowler': 0.02895601172493642,\n",
       " 'Brittany Farmer': 0.05581433956483104,\n",
       " 'Paula Moreno': 0.018479841004143748,\n",
       " 'Fred Smith': 0.02539490490327034,\n",
       " 'Sherry Decker': 0.0033333,\n",
       " 'Anthony Humphrey': 0.07813170388672691,\n",
       " 'Angelica Tucker': 0.009551798904757821}"
      ]
     },
     "execution_count": 14,
     "metadata": {},
     "output_type": "execute_result"
    }
   ],
   "source": [
    "decrypted_scores"
   ]
  },
  {
   "cell_type": "markdown",
   "metadata": {},
   "source": [
    "Let's also decrypt the average review ratings."
   ]
  },
  {
   "cell_type": "code",
   "execution_count": 15,
   "metadata": {},
   "outputs": [],
   "source": [
    "# Decrypt the average scores\n",
    "decrypted_average_scores = {k: {'AverageScore': ctx.decrypt(v['AverageScore']), 'Role': v['Role']} for k, v in average_scores.items()}\n",
    "\n",
    "# Convert the decrypted average scores to a DataFrame\n",
    "average_scores_df = pd.DataFrame.from_dict(decrypted_average_scores, orient='index')\n"
   ]
  },
  {
   "cell_type": "markdown",
   "metadata": {},
   "source": [
    "Next, we'd like to merge that with the pagerank scores to make it simple to plot and analyze our data"
   ]
  },
  {
   "cell_type": "code",
   "execution_count": 16,
   "metadata": {},
   "outputs": [
    {
     "data": {
      "text/html": [
       "<div>\n",
       "<style scoped>\n",
       "    .dataframe tbody tr th:only-of-type {\n",
       "        vertical-align: middle;\n",
       "    }\n",
       "\n",
       "    .dataframe tbody tr th {\n",
       "        vertical-align: top;\n",
       "    }\n",
       "\n",
       "    .dataframe thead th {\n",
       "        text-align: right;\n",
       "    }\n",
       "</style>\n",
       "<table border=\"1\" class=\"dataframe\">\n",
       "  <thead>\n",
       "    <tr style=\"text-align: right;\">\n",
       "      <th></th>\n",
       "      <th>Employee</th>\n",
       "      <th>AverageScore</th>\n",
       "      <th>Role</th>\n",
       "      <th>PageRank</th>\n",
       "    </tr>\n",
       "  </thead>\n",
       "  <tbody>\n",
       "    <tr>\n",
       "      <th>0</th>\n",
       "      <td>Allison Hill</td>\n",
       "      <td>1.500000</td>\n",
       "      <td>manager</td>\n",
       "      <td>0.006927</td>\n",
       "    </tr>\n",
       "    <tr>\n",
       "      <th>1</th>\n",
       "      <td>Angelica Tucker</td>\n",
       "      <td>2.000000</td>\n",
       "      <td>executive</td>\n",
       "      <td>0.009552</td>\n",
       "    </tr>\n",
       "    <tr>\n",
       "      <th>2</th>\n",
       "      <td>Angie Henderson</td>\n",
       "      <td>4.500000</td>\n",
       "      <td>intern</td>\n",
       "      <td>0.044039</td>\n",
       "    </tr>\n",
       "    <tr>\n",
       "      <th>3</th>\n",
       "      <td>Anthony Humphrey</td>\n",
       "      <td>1.533333</td>\n",
       "      <td>manager</td>\n",
       "      <td>0.078132</td>\n",
       "    </tr>\n",
       "    <tr>\n",
       "      <th>4</th>\n",
       "      <td>Anthony Rodriguez</td>\n",
       "      <td>4.000000</td>\n",
       "      <td>intern</td>\n",
       "      <td>0.003900</td>\n",
       "    </tr>\n",
       "  </tbody>\n",
       "</table>\n",
       "</div>"
      ],
      "text/plain": [
       "            Employee  AverageScore       Role  PageRank\n",
       "0       Allison Hill      1.500000    manager  0.006927\n",
       "1    Angelica Tucker      2.000000  executive  0.009552\n",
       "2    Angie Henderson      4.500000     intern  0.044039\n",
       "3   Anthony Humphrey      1.533333    manager  0.078132\n",
       "4  Anthony Rodriguez      4.000000     intern  0.003900"
      ]
     },
     "execution_count": 16,
     "metadata": {},
     "output_type": "execute_result"
    }
   ],
   "source": [
    "# Create DataFrames from average_scores and decrypted_pagerank\n",
    "decrypted_pagerank_df = pd.DataFrame.from_dict(decrypted_scores, orient='index', columns=['PageRank'])\n",
    "\n",
    "# Merge the two DataFrames on the index (employee name)\n",
    "performance_metrics = average_scores_df.merge(decrypted_pagerank_df, left_index=True, right_index=True)\n",
    "\n",
    "# Reset the index to make employee names a column\n",
    "performance_metrics.reset_index(inplace=True)\n",
    "performance_metrics.rename(columns={'index': 'Employee'}, inplace=True)\n",
    "\n",
    "performance_metrics.head()\n"
   ]
  },
  {
   "cell_type": "markdown",
   "metadata": {},
   "source": [
    "The PageRank combined with the Average rating can be used to cluster employees into three groups of high impact, medium impact and low impact employees."
   ]
  },
  {
   "cell_type": "code",
   "execution_count": 17,
   "metadata": {},
   "outputs": [],
   "source": [
    "# Perform K-Means clustering\n",
    "num_clusters = 3  # Adjust the number of clusters as needed\n",
    "kmeans = KMeans(n_clusters=num_clusters, random_state=42)\n",
    "performance_metrics['Cluster'] = kmeans.fit_predict(performance_metrics[['PageRank', 'AverageScore']])\n"
   ]
  },
  {
   "cell_type": "markdown",
   "metadata": {},
   "source": [
    "Now let's plot the results! In the below graph, the employees pagerank is represented by the size of their marker. The colour indicates the average rating that they recieved, and the shape symbolizes the cluster they belong to. On the x-axis we have the PageRank, on the y axis we have the average rating."
   ]
  },
  {
   "cell_type": "code",
   "execution_count": 18,
   "metadata": {},
   "outputs": [
    {
     "data": {
      "application/vnd.plotly.v1+json": {
       "config": {
        "plotlyServerURL": "https://plot.ly"
       },
       "data": [
        {
         "customdata": [
          [
           "Allison Hill",
           "manager",
           12.402255306764783
          ],
          [
           "Angelica Tucker",
           "executive",
           14.156839305137435
          ],
          [
           "Anthony Humphrey",
           "manager",
           60
          ],
          [
           "Carla Gray",
           "intern",
           16.72146612919852
          ],
          [
           "Cassandra Gaines",
           "manager",
           15.32548091740053
          ],
          [
           "Elizabeth Fowler",
           "manager",
           27.127846580616147
          ],
          [
           "Ethan Adams",
           "intern",
           10.757584347465675
          ],
          [
           "Fred Smith",
           "executive",
           24.74737678672927
          ],
          [
           "Gina Moore",
           "executive",
           39.042441132709456
          ],
          [
           "James Ferrell",
           "manager",
           11.596783171623862
          ],
          [
           "Jamie Arnold",
           "executive",
           58.22417758072114
          ],
          [
           "Jeffrey Chavez",
           "intern",
           32.22380688271922
          ],
          [
           "Judy Baker",
           "manager",
           50.75064249832172
          ],
          [
           "Lisa Hensley",
           "executive",
           37.519680713456395
          ],
          [
           "Lisa Jackson",
           "intern",
           19.907829611213117
          ],
          [
           "Margaret Hawkins DDS",
           "manager",
           12.478818891102355
          ],
          [
           "Michele Williams",
           "executive",
           12.084315325045694
          ],
          [
           "Ryan Munoz",
           "intern",
           16.449662720544985
          ],
          [
           "Tommy Walter",
           "manager",
           33.99454903340069
          ],
          [
           "Zachary Hicks",
           "intern",
           18.556577866304515
          ]
         ],
         "hovertemplate": "Cluster=2<br>PageRank=%{x:.4f}<br>Average Rating=%{marker.color:.2f}<br>Employee=%{customdata[0]}<br>Role=%{customdata[1]}<extra></extra>",
         "legendgroup": "2",
         "marker": {
          "cmax": 5,
          "cmin": 0,
          "color": [
           1.5,
           2,
           1.533333,
           2.5,
           3,
           1.444444,
           2.5,
           3,
           1.333333,
           3,
           2,
           2.285714,
           1.923077,
           2.153846,
           2.333333,
           1.5,
           3,
           2.4,
           2.8,
           1.666667
          ],
          "coloraxis": "coloraxis",
          "colorbar": {
           "title": {
            "text": "Average Rating"
           }
          },
          "size": [
           12.402255306764783,
           14.156839305137435,
           60,
           16.72146612919852,
           15.32548091740053,
           27.127846580616147,
           10.757584347465675,
           24.74737678672927,
           39.042441132709456,
           11.596783171623862,
           58.22417758072114,
           32.22380688271922,
           50.75064249832172,
           37.519680713456395,
           19.907829611213117,
           12.478818891102355,
           12.084315325045694,
           16.449662720544985,
           33.99454903340069,
           18.556577866304515
          ],
          "sizemode": "area",
          "sizeref": 0.15,
          "symbol": "circle"
         },
         "mode": "markers",
         "name": "2",
         "orientation": "v",
         "showlegend": true,
         "type": "scatter",
         "x": [
          0.006926997253488505,
          0.009551798904757821,
          0.07813170388672691,
          0.01338839876485492,
          0.011300049451015638,
          0.02895601172493642,
          0.004466622,
          0.02539490490327034,
          0.046779864834017845,
          0.005722036651813008,
          0.07547513023576041,
          0.03657940566228506,
          0.06429496032466171,
          0.0445018638567776,
          0.018155096818007827,
          0.0070415339315744495,
          0.006451369190201246,
          0.012981789542089794,
          0.039228379393603546,
          0.01613366734264146
         ],
         "xaxis": "x",
         "y": [
          1.5,
          2,
          1.533333,
          2.5,
          3,
          1.444444,
          2.5,
          3,
          1.333333,
          3,
          2,
          2.285714,
          1.923077,
          2.153846,
          2.333333,
          1.5,
          3,
          2.4,
          2.8,
          1.666667
         ],
         "yaxis": "y"
        },
        {
         "customdata": [
          [
           "Angie Henderson",
           "intern",
           37.210085350116245
          ],
          [
           "Anthony Rodriguez",
           "intern",
           10.378792173732837
          ],
          [
           "Brian Ramirez",
           "manager",
           14.646173182729644
          ],
          [
           "Brittany Farmer",
           "manager",
           45.08165738690574
          ],
          [
           "Connie Lawrence",
           "manager",
           17.37759430316408
          ],
          [
           "Debra Davidson",
           "executive",
           51.16942427046299
          ],
          [
           "Derek Zuniga",
           "manager",
           22.55114544874764
          ],
          [
           "Gabrielle Davis",
           "manager",
           19.29574303775466
          ],
          [
           "Matthew Foster",
           "executive",
           10.65024531300982
          ],
          [
           "Nathan Maldonado",
           "intern",
           36.0594695397267
          ],
          [
           "Noah Rhodes",
           "executive",
           51.92329205678706
          ],
          [
           "Patty Perez",
           "intern",
           17.16465297246594
          ],
          [
           "Paula Moreno",
           "executive",
           20.124909234080278
          ],
          [
           "Rebecca Henderson",
           "executive",
           24.245494352258426
          ],
          [
           "Stephanie Ross",
           "manager",
           16.241447176838562
          ]
         ],
         "hovertemplate": "Cluster=1<br>PageRank=%{x:.4f}<br>Average Rating=%{marker.color:.2f}<br>Employee=%{customdata[0]}<br>Role=%{customdata[1]}<extra></extra>",
         "legendgroup": "1",
         "marker": {
          "cmax": 5,
          "cmin": 0,
          "color": [
           4.5,
           4,
           3.5,
           4.125,
           5,
           5,
           3.75,
           3.8,
           5,
           3.555556,
           4.052632,
           4,
           4,
           4,
           3.833333
          ],
          "coloraxis": "coloraxis",
          "colorbar": {
           "title": {
            "text": "Average Rating"
           }
          },
          "size": [
           37.210085350116245,
           10.378792173732837,
           14.646173182729644,
           45.08165738690574,
           17.37759430316408,
           51.16942427046299,
           22.55114544874764,
           19.29574303775466,
           10.65024531300982,
           36.0594695397267,
           51.92329205678706,
           17.16465297246594,
           20.124909234080278,
           24.245494352258426,
           16.241447176838562
          ],
          "sizemode": "area",
          "sizeref": 0.15,
          "symbol": "diamond"
         },
         "mode": "markers",
         "name": "1",
         "orientation": "v",
         "showlegend": true,
         "type": "scatter",
         "x": [
          0.044038719076206115,
          0.003899961,
          0.010283826764989826,
          0.05581433956483104,
          0.014369945568009652,
          0.06492144448732216,
          0.022109412930329603,
          0.017239434843304056,
          0.0043060462309591945,
          0.0423174345541267,
          0.06604920663049538,
          0.01405139213485492,
          0.018479841004143748,
          0.024644104802526257,
          0.012670305735416844
         ],
         "xaxis": "x",
         "y": [
          4.5,
          4,
          3.5,
          4.125,
          5,
          5,
          3.75,
          3.8,
          5,
          3.555556,
          4.052632,
          4,
          4,
          4,
          3.833333
         ],
         "yaxis": "y"
        },
        {
         "customdata": [
          [
           "Daniel Wagner",
           "intern",
           10
          ],
          [
           "Cristian Santos",
           "intern",
           10
          ],
          [
           "Abigail Shaffer",
           "intern",
           10
          ],
          [
           "Monica Herrera",
           "intern",
           10
          ],
          [
           "Dylan Miller",
           "intern",
           10
          ],
          [
           "Holly Wood",
           "intern",
           10
          ],
          [
           "Justin Baker",
           "intern",
           10
          ],
          [
           "Tricia Valencia",
           "intern",
           10
          ],
          [
           "Sherri Baker",
           "intern",
           10
          ],
          [
           "Sherry Decker",
           "intern",
           10
          ]
         ],
         "hovertemplate": "Cluster=0<br>PageRank=%{x:.4f}<br>Average Rating=%{marker.color:.2f}<br>Employee=%{customdata[0]}<br>Role=%{customdata[1]}<extra></extra>",
         "legendgroup": "0",
         "marker": {
          "cmax": 5,
          "cmin": 0,
          "color": [
           0,
           0,
           0,
           0,
           0,
           0,
           0,
           0,
           0,
           0
          ],
          "coloraxis": "coloraxis",
          "colorbar": {
           "title": {
            "text": "Average Rating"
           }
          },
          "size": [
           10,
           10,
           10,
           10,
           10,
           10,
           10,
           10,
           10,
           10
          ],
          "sizemode": "area",
          "sizeref": 0.15,
          "symbol": "square"
         },
         "mode": "markers",
         "name": "0",
         "orientation": "v",
         "showlegend": true,
         "type": "scatter",
         "x": [
          0.0033333,
          0.0033333,
          0.0033333,
          0.0033333,
          0.0033333,
          0.0033333,
          0.0033333,
          0.0033333,
          0.0033333,
          0.0033333
         ],
         "xaxis": "x",
         "y": [
          0,
          0,
          0,
          0,
          0,
          0,
          0,
          0,
          0,
          0
         ],
         "yaxis": "y"
        }
       ],
       "layout": {
        "coloraxis": {
         "colorbar": {
          "title": {
           "text": "Average Rating"
          }
         },
         "colorscale": [
          [
           0,
           "rgb(103,0,31)"
          ],
          [
           0.1,
           "rgb(178,24,43)"
          ],
          [
           0.2,
           "rgb(214,96,77)"
          ],
          [
           0.3,
           "rgb(244,165,130)"
          ],
          [
           0.4,
           "rgb(253,219,199)"
          ],
          [
           0.5,
           "rgb(247,247,247)"
          ],
          [
           0.6,
           "rgb(209,229,240)"
          ],
          [
           0.7,
           "rgb(146,197,222)"
          ],
          [
           0.8,
           "rgb(67,147,195)"
          ],
          [
           0.9,
           "rgb(33,102,172)"
          ],
          [
           1,
           "rgb(5,48,97)"
          ]
         ]
        },
        "legend": {
         "itemsizing": "constant",
         "title": {
          "text": "Cluster"
         },
         "tracegroupgap": 0
        },
        "showlegend": false,
        "template": {
         "data": {
          "bar": [
           {
            "error_x": {
             "color": "#2a3f5f"
            },
            "error_y": {
             "color": "#2a3f5f"
            },
            "marker": {
             "line": {
              "color": "#E5ECF6",
              "width": 0.5
             },
             "pattern": {
              "fillmode": "overlay",
              "size": 10,
              "solidity": 0.2
             }
            },
            "type": "bar"
           }
          ],
          "barpolar": [
           {
            "marker": {
             "line": {
              "color": "#E5ECF6",
              "width": 0.5
             },
             "pattern": {
              "fillmode": "overlay",
              "size": 10,
              "solidity": 0.2
             }
            },
            "type": "barpolar"
           }
          ],
          "carpet": [
           {
            "aaxis": {
             "endlinecolor": "#2a3f5f",
             "gridcolor": "white",
             "linecolor": "white",
             "minorgridcolor": "white",
             "startlinecolor": "#2a3f5f"
            },
            "baxis": {
             "endlinecolor": "#2a3f5f",
             "gridcolor": "white",
             "linecolor": "white",
             "minorgridcolor": "white",
             "startlinecolor": "#2a3f5f"
            },
            "type": "carpet"
           }
          ],
          "choropleth": [
           {
            "colorbar": {
             "outlinewidth": 0,
             "ticks": ""
            },
            "type": "choropleth"
           }
          ],
          "contour": [
           {
            "colorbar": {
             "outlinewidth": 0,
             "ticks": ""
            },
            "colorscale": [
             [
              0,
              "#0d0887"
             ],
             [
              0.1111111111111111,
              "#46039f"
             ],
             [
              0.2222222222222222,
              "#7201a8"
             ],
             [
              0.3333333333333333,
              "#9c179e"
             ],
             [
              0.4444444444444444,
              "#bd3786"
             ],
             [
              0.5555555555555556,
              "#d8576b"
             ],
             [
              0.6666666666666666,
              "#ed7953"
             ],
             [
              0.7777777777777778,
              "#fb9f3a"
             ],
             [
              0.8888888888888888,
              "#fdca26"
             ],
             [
              1,
              "#f0f921"
             ]
            ],
            "type": "contour"
           }
          ],
          "contourcarpet": [
           {
            "colorbar": {
             "outlinewidth": 0,
             "ticks": ""
            },
            "type": "contourcarpet"
           }
          ],
          "heatmap": [
           {
            "colorbar": {
             "outlinewidth": 0,
             "ticks": ""
            },
            "colorscale": [
             [
              0,
              "#0d0887"
             ],
             [
              0.1111111111111111,
              "#46039f"
             ],
             [
              0.2222222222222222,
              "#7201a8"
             ],
             [
              0.3333333333333333,
              "#9c179e"
             ],
             [
              0.4444444444444444,
              "#bd3786"
             ],
             [
              0.5555555555555556,
              "#d8576b"
             ],
             [
              0.6666666666666666,
              "#ed7953"
             ],
             [
              0.7777777777777778,
              "#fb9f3a"
             ],
             [
              0.8888888888888888,
              "#fdca26"
             ],
             [
              1,
              "#f0f921"
             ]
            ],
            "type": "heatmap"
           }
          ],
          "heatmapgl": [
           {
            "colorbar": {
             "outlinewidth": 0,
             "ticks": ""
            },
            "colorscale": [
             [
              0,
              "#0d0887"
             ],
             [
              0.1111111111111111,
              "#46039f"
             ],
             [
              0.2222222222222222,
              "#7201a8"
             ],
             [
              0.3333333333333333,
              "#9c179e"
             ],
             [
              0.4444444444444444,
              "#bd3786"
             ],
             [
              0.5555555555555556,
              "#d8576b"
             ],
             [
              0.6666666666666666,
              "#ed7953"
             ],
             [
              0.7777777777777778,
              "#fb9f3a"
             ],
             [
              0.8888888888888888,
              "#fdca26"
             ],
             [
              1,
              "#f0f921"
             ]
            ],
            "type": "heatmapgl"
           }
          ],
          "histogram": [
           {
            "marker": {
             "pattern": {
              "fillmode": "overlay",
              "size": 10,
              "solidity": 0.2
             }
            },
            "type": "histogram"
           }
          ],
          "histogram2d": [
           {
            "colorbar": {
             "outlinewidth": 0,
             "ticks": ""
            },
            "colorscale": [
             [
              0,
              "#0d0887"
             ],
             [
              0.1111111111111111,
              "#46039f"
             ],
             [
              0.2222222222222222,
              "#7201a8"
             ],
             [
              0.3333333333333333,
              "#9c179e"
             ],
             [
              0.4444444444444444,
              "#bd3786"
             ],
             [
              0.5555555555555556,
              "#d8576b"
             ],
             [
              0.6666666666666666,
              "#ed7953"
             ],
             [
              0.7777777777777778,
              "#fb9f3a"
             ],
             [
              0.8888888888888888,
              "#fdca26"
             ],
             [
              1,
              "#f0f921"
             ]
            ],
            "type": "histogram2d"
           }
          ],
          "histogram2dcontour": [
           {
            "colorbar": {
             "outlinewidth": 0,
             "ticks": ""
            },
            "colorscale": [
             [
              0,
              "#0d0887"
             ],
             [
              0.1111111111111111,
              "#46039f"
             ],
             [
              0.2222222222222222,
              "#7201a8"
             ],
             [
              0.3333333333333333,
              "#9c179e"
             ],
             [
              0.4444444444444444,
              "#bd3786"
             ],
             [
              0.5555555555555556,
              "#d8576b"
             ],
             [
              0.6666666666666666,
              "#ed7953"
             ],
             [
              0.7777777777777778,
              "#fb9f3a"
             ],
             [
              0.8888888888888888,
              "#fdca26"
             ],
             [
              1,
              "#f0f921"
             ]
            ],
            "type": "histogram2dcontour"
           }
          ],
          "mesh3d": [
           {
            "colorbar": {
             "outlinewidth": 0,
             "ticks": ""
            },
            "type": "mesh3d"
           }
          ],
          "parcoords": [
           {
            "line": {
             "colorbar": {
              "outlinewidth": 0,
              "ticks": ""
             }
            },
            "type": "parcoords"
           }
          ],
          "pie": [
           {
            "automargin": true,
            "type": "pie"
           }
          ],
          "scatter": [
           {
            "fillpattern": {
             "fillmode": "overlay",
             "size": 10,
             "solidity": 0.2
            },
            "type": "scatter"
           }
          ],
          "scatter3d": [
           {
            "line": {
             "colorbar": {
              "outlinewidth": 0,
              "ticks": ""
             }
            },
            "marker": {
             "colorbar": {
              "outlinewidth": 0,
              "ticks": ""
             }
            },
            "type": "scatter3d"
           }
          ],
          "scattercarpet": [
           {
            "marker": {
             "colorbar": {
              "outlinewidth": 0,
              "ticks": ""
             }
            },
            "type": "scattercarpet"
           }
          ],
          "scattergeo": [
           {
            "marker": {
             "colorbar": {
              "outlinewidth": 0,
              "ticks": ""
             }
            },
            "type": "scattergeo"
           }
          ],
          "scattergl": [
           {
            "marker": {
             "colorbar": {
              "outlinewidth": 0,
              "ticks": ""
             }
            },
            "type": "scattergl"
           }
          ],
          "scattermapbox": [
           {
            "marker": {
             "colorbar": {
              "outlinewidth": 0,
              "ticks": ""
             }
            },
            "type": "scattermapbox"
           }
          ],
          "scatterpolar": [
           {
            "marker": {
             "colorbar": {
              "outlinewidth": 0,
              "ticks": ""
             }
            },
            "type": "scatterpolar"
           }
          ],
          "scatterpolargl": [
           {
            "marker": {
             "colorbar": {
              "outlinewidth": 0,
              "ticks": ""
             }
            },
            "type": "scatterpolargl"
           }
          ],
          "scatterternary": [
           {
            "marker": {
             "colorbar": {
              "outlinewidth": 0,
              "ticks": ""
             }
            },
            "type": "scatterternary"
           }
          ],
          "surface": [
           {
            "colorbar": {
             "outlinewidth": 0,
             "ticks": ""
            },
            "colorscale": [
             [
              0,
              "#0d0887"
             ],
             [
              0.1111111111111111,
              "#46039f"
             ],
             [
              0.2222222222222222,
              "#7201a8"
             ],
             [
              0.3333333333333333,
              "#9c179e"
             ],
             [
              0.4444444444444444,
              "#bd3786"
             ],
             [
              0.5555555555555556,
              "#d8576b"
             ],
             [
              0.6666666666666666,
              "#ed7953"
             ],
             [
              0.7777777777777778,
              "#fb9f3a"
             ],
             [
              0.8888888888888888,
              "#fdca26"
             ],
             [
              1,
              "#f0f921"
             ]
            ],
            "type": "surface"
           }
          ],
          "table": [
           {
            "cells": {
             "fill": {
              "color": "#EBF0F8"
             },
             "line": {
              "color": "white"
             }
            },
            "header": {
             "fill": {
              "color": "#C8D4E3"
             },
             "line": {
              "color": "white"
             }
            },
            "type": "table"
           }
          ]
         },
         "layout": {
          "annotationdefaults": {
           "arrowcolor": "#2a3f5f",
           "arrowhead": 0,
           "arrowwidth": 1
          },
          "autotypenumbers": "strict",
          "coloraxis": {
           "colorbar": {
            "outlinewidth": 0,
            "ticks": ""
           }
          },
          "colorscale": {
           "diverging": [
            [
             0,
             "#8e0152"
            ],
            [
             0.1,
             "#c51b7d"
            ],
            [
             0.2,
             "#de77ae"
            ],
            [
             0.3,
             "#f1b6da"
            ],
            [
             0.4,
             "#fde0ef"
            ],
            [
             0.5,
             "#f7f7f7"
            ],
            [
             0.6,
             "#e6f5d0"
            ],
            [
             0.7,
             "#b8e186"
            ],
            [
             0.8,
             "#7fbc41"
            ],
            [
             0.9,
             "#4d9221"
            ],
            [
             1,
             "#276419"
            ]
           ],
           "sequential": [
            [
             0,
             "#0d0887"
            ],
            [
             0.1111111111111111,
             "#46039f"
            ],
            [
             0.2222222222222222,
             "#7201a8"
            ],
            [
             0.3333333333333333,
             "#9c179e"
            ],
            [
             0.4444444444444444,
             "#bd3786"
            ],
            [
             0.5555555555555556,
             "#d8576b"
            ],
            [
             0.6666666666666666,
             "#ed7953"
            ],
            [
             0.7777777777777778,
             "#fb9f3a"
            ],
            [
             0.8888888888888888,
             "#fdca26"
            ],
            [
             1,
             "#f0f921"
            ]
           ],
           "sequentialminus": [
            [
             0,
             "#0d0887"
            ],
            [
             0.1111111111111111,
             "#46039f"
            ],
            [
             0.2222222222222222,
             "#7201a8"
            ],
            [
             0.3333333333333333,
             "#9c179e"
            ],
            [
             0.4444444444444444,
             "#bd3786"
            ],
            [
             0.5555555555555556,
             "#d8576b"
            ],
            [
             0.6666666666666666,
             "#ed7953"
            ],
            [
             0.7777777777777778,
             "#fb9f3a"
            ],
            [
             0.8888888888888888,
             "#fdca26"
            ],
            [
             1,
             "#f0f921"
            ]
           ]
          },
          "colorway": [
           "#636efa",
           "#EF553B",
           "#00cc96",
           "#ab63fa",
           "#FFA15A",
           "#19d3f3",
           "#FF6692",
           "#B6E880",
           "#FF97FF",
           "#FECB52"
          ],
          "font": {
           "color": "#2a3f5f"
          },
          "geo": {
           "bgcolor": "white",
           "lakecolor": "white",
           "landcolor": "#E5ECF6",
           "showlakes": true,
           "showland": true,
           "subunitcolor": "white"
          },
          "hoverlabel": {
           "align": "left"
          },
          "hovermode": "closest",
          "mapbox": {
           "style": "light"
          },
          "paper_bgcolor": "white",
          "plot_bgcolor": "#E5ECF6",
          "polar": {
           "angularaxis": {
            "gridcolor": "white",
            "linecolor": "white",
            "ticks": ""
           },
           "bgcolor": "#E5ECF6",
           "radialaxis": {
            "gridcolor": "white",
            "linecolor": "white",
            "ticks": ""
           }
          },
          "scene": {
           "xaxis": {
            "backgroundcolor": "#E5ECF6",
            "gridcolor": "white",
            "gridwidth": 2,
            "linecolor": "white",
            "showbackground": true,
            "ticks": "",
            "zerolinecolor": "white"
           },
           "yaxis": {
            "backgroundcolor": "#E5ECF6",
            "gridcolor": "white",
            "gridwidth": 2,
            "linecolor": "white",
            "showbackground": true,
            "ticks": "",
            "zerolinecolor": "white"
           },
           "zaxis": {
            "backgroundcolor": "#E5ECF6",
            "gridcolor": "white",
            "gridwidth": 2,
            "linecolor": "white",
            "showbackground": true,
            "ticks": "",
            "zerolinecolor": "white"
           }
          },
          "shapedefaults": {
           "line": {
            "color": "#2a3f5f"
           }
          },
          "ternary": {
           "aaxis": {
            "gridcolor": "white",
            "linecolor": "white",
            "ticks": ""
           },
           "baxis": {
            "gridcolor": "white",
            "linecolor": "white",
            "ticks": ""
           },
           "bgcolor": "#E5ECF6",
           "caxis": {
            "gridcolor": "white",
            "linecolor": "white",
            "ticks": ""
           }
          },
          "title": {
           "x": 0.05
          },
          "xaxis": {
           "automargin": true,
           "gridcolor": "white",
           "linecolor": "white",
           "ticks": "",
           "title": {
            "standoff": 15
           },
           "zerolinecolor": "white",
           "zerolinewidth": 2
          },
          "yaxis": {
           "automargin": true,
           "gridcolor": "white",
           "linecolor": "white",
           "ticks": "",
           "title": {
            "standoff": 15
           },
           "zerolinecolor": "white",
           "zerolinewidth": 2
          }
         }
        },
        "title": {
         "text": "Employee Impact Based on PageRank and Average Rating",
         "x": 0.5
        },
        "xaxis": {
         "anchor": "y",
         "domain": [
          0,
          1
         ],
         "title": {
          "text": "PageRank"
         }
        },
        "yaxis": {
         "anchor": "x",
         "domain": [
          0,
          1
         ],
         "title": {
          "text": "Average Rating"
         }
        }
       }
      }
     },
     "metadata": {},
     "output_type": "display_data"
    }
   ],
   "source": [
    "# Set marker sizes based on PageRank, scaled for visualization\n",
    "pagerank_min, pagerank_max = performance_metrics['PageRank'].min(), performance_metrics['PageRank'].max()\n",
    "performance_metrics['MarkerSize'] = 10 + 50 * ((performance_metrics['PageRank'] - pagerank_min) / (pagerank_max - pagerank_min))\n",
    "\n",
    "\n",
    "# Define the cmin and cmax for consistent color scaling with the network graph\n",
    "score_min = performance_metrics['AverageScore'].min()\n",
    "score_max = performance_metrics['AverageScore'].max()\n",
    "\n",
    "# Plot the clusters using Plotly, with AverageScore for color, PageRank for size, and Role for symbol\n",
    "fig = px.scatter(\n",
    "    performance_metrics,\n",
    "    x='PageRank',\n",
    "    y='AverageScore',\n",
    "    color='AverageScore',\n",
    "    size='MarkerSize',\n",
    "    color_continuous_scale='RdBu',  # Same color scale as the network graph, reversed\n",
    "    symbol='Cluster',  # Different markers for each role\n",
    "    hover_data={\n",
    "        'Employee': True,\n",
    "        'PageRank': ':.4f',\n",
    "        'AverageScore': ':.2f',\n",
    "        'Role': True,  # Display the role in hover text\n",
    "        'MarkerSize': False  # Hide MarkerSize in hover text\n",
    "    },\n",
    "    title=\"Employee Impact Based on PageRank and Average Rating\",\n",
    "    labels={'PageRank': 'PageRank', 'AverageScore': 'Average Rating'}\n",
    ")\n",
    "\n",
    "# Indent the title to the right\n",
    "fig.update_layout(title={'x': 0.5})  \n",
    "\n",
    "# Apply cmin and cmax for consistent color range with the network graph\n",
    "fig.update_traces(marker=dict(colorbar=dict(title=\"Average Rating\"), cmin=score_min, cmax=score_max))\n",
    "\n",
    "# Hide the Role legend\n",
    "fig.update_layout(\n",
    "    showlegend=False\n",
    ")\n",
    "\n",
    "# Show the plot\n",
    "fig.show()\n"
   ]
  },
  {
   "cell_type": "markdown",
   "metadata": {},
   "source": [
    "Let's examine the above graph.\n",
    "* Noah Rhodes is the highest ranking employee according to PageRank. This makes sense. He's an executive and interfaces with many employees at the company. According to his average score he seems to be well-liked.\n",
    "* Sherry Decker is an intern, and unfortunately is the lowest ranked. This is because nobody reviewed Sherry, highlighting a flaw in the 360 review system. HR should solicite reviews on her behalf, as her current score of 0 is not even a valid option. Meanwhile, Anthony Rodriguez has been recognized for a very successful internship.\n",
    "* Jamie Arnold is a high ranking executive who is scoring poorly on his 360 performance reviews. Their peformance may require further examination by the CEO."
   ]
  },
  {
   "cell_type": "markdown",
   "metadata": {},
   "source": []
  }
 ],
 "metadata": {
  "kernelspec": {
   "display_name": "venum_ml",
   "language": "python",
   "name": "python3"
  },
  "language_info": {
   "codemirror_mode": {
    "name": "ipython",
    "version": 3
   },
   "file_extension": ".py",
   "mimetype": "text/x-python",
   "name": "python",
   "nbconvert_exporter": "python",
   "pygments_lexer": "ipython3",
   "version": "3.11.11"
  }
 },
 "nbformat": 4,
 "nbformat_minor": 2
}
