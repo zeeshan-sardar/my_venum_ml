{
 "cells": [
  {
   "cell_type": "code",
   "execution_count": 25,
   "metadata": {},
   "outputs": [],
   "source": [
    "import os\n",
    "import json\n",
    "import time\n",
    "import numpy as np\n",
    "from google.cloud import storage\n",
    "\n",
    "from venumpy import small_glwe as vp\n",
    "from venumML.venum_tools import encrypt_array\n",
    "\n",
    "from sklearn.datasets import make_regression\n",
    "from sklearn.model_selection import train_test_split\n"
   ]
  },
  {
   "cell_type": "code",
   "execution_count": 26,
   "metadata": {},
   "outputs": [],
   "source": [
    "ctx = vp.SecretContext()"
   ]
  },
  {
   "cell_type": "code",
   "execution_count": 27,
   "metadata": {},
   "outputs": [
    {
     "name": "stdout",
     "output_type": "stream",
     "text": [
      "(8, 4) (8,)\n"
     ]
    }
   ],
   "source": [
    "# Step 1: Generate Sample Data\n",
    "X, y = make_regression(n_samples=10, n_features=4, noise=0.1)\n",
    "X_train, X_test, y_train, y_test = train_test_split(X, y, test_size=0.2, random_state=42)\n",
    "print(X_train.shape, y_train.shape)"
   ]
  },
  {
   "cell_type": "code",
   "execution_count": 28,
   "metadata": {},
   "outputs": [],
   "source": [
    "X_train_ct = encrypt_array(X_train, ctx)\n",
    "y_train_ct = encrypt_array(y_train, ctx)"
   ]
  },
  {
   "cell_type": "code",
   "execution_count": 29,
   "metadata": {},
   "outputs": [],
   "source": [
    "# X_train_ct_json = [json.loads(ct.into_json()) for ct in X_train_ct]\n",
    "X_train_ct_json = [[json.loads(ct.into_json()) for ct in row] for row in X_train_ct]\n",
    "\n",
    "with open('X_train_ct.json', 'w') as json_file:\n",
    "    # Use json.dump() to serialize the dictionary and write it to the file\n",
    "    json.dump(X_train_ct_json, json_file, indent=4)  "
   ]
  },
  {
   "cell_type": "code",
   "execution_count": 30,
   "metadata": {},
   "outputs": [],
   "source": [
    "y_train_ct_json = [json.loads(ct.into_json()) for ct in y_train_ct]\n",
    "\n",
    "with open('y_train_ct.json', 'w') as json_file:\n",
    "    # Use json.dump() to serialize the dictionary and write it to the file\n",
    "    json.dump(y_train_ct_json, json_file, indent=4)  "
   ]
  },
  {
   "cell_type": "code",
   "execution_count": 31,
   "metadata": {},
   "outputs": [
    {
     "name": "stdout",
     "output_type": "stream",
     "text": [
      "File ./X_train_ct.json uploaded to eml_training/X_train_ct.json successfully!\n",
      "File ./y_train_ct.json uploaded to eml_training/y_train_ct.json successfully!\n"
     ]
    }
   ],
   "source": [
    "def upload_to_gcp_bucket(file_paths, bucket_name, destination_blob_name=None):\n",
    "    try:\n",
    "        storage_client = storage.Client()\n",
    "    except Exception as e:\n",
    "        print(f\"Failed to initialize GCP storage client: {str(e)}\")\n",
    "        return\n",
    "    \n",
    "    bucket = storage_client.bucket(bucket_name)\n",
    "    \n",
    "    for file_path in file_paths:\n",
    "        try:\n",
    "            # Use a unique blob name for each file when destination_blob_name is None\n",
    "            blob_name = destination_blob_name if destination_blob_name else os.path.basename(file_path)\n",
    "            blob = bucket.blob(blob_name)\n",
    "            blob.upload_from_filename(file_path)\n",
    "            print(f\"File {file_path} uploaded to {bucket_name}/{blob_name} successfully!\")\n",
    "        except Exception as e:\n",
    "            print(f\"Error uploading {file_path}: {str(e)}\")\n",
    "            continue  # Continue with next file instead of stopping\n",
    "\n",
    "if __name__ == \"__main__\":\n",
    "    file_paths = [\"./X_train_ct.json\", \"./y_train_ct.json\"]\n",
    "    bucket_name = \"eml_training\"\n",
    "    upload_to_gcp_bucket(file_paths, bucket_name)"
   ]
  },
  {
   "cell_type": "code",
   "execution_count": null,
   "metadata": {},
   "outputs": [],
   "source": []
  }
 ],
 "metadata": {
  "kernelspec": {
   "display_name": "venum_ml",
   "language": "python",
   "name": "python3"
  },
  "language_info": {
   "codemirror_mode": {
    "name": "ipython",
    "version": 3
   },
   "file_extension": ".py",
   "mimetype": "text/x-python",
   "name": "python",
   "nbconvert_exporter": "python",
   "pygments_lexer": "ipython3",
   "version": "3.11.11"
  }
 },
 "nbformat": 4,
 "nbformat_minor": 2
}
